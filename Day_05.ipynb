{
 "cells": [
  {
   "cell_type": "code",
   "execution_count": null,
   "metadata": {},
   "outputs": [],
   "source": [
    "#loops, Range and Code blocks"
   ]
  },
  {
   "cell_type": "code",
   "execution_count": 1,
   "metadata": {},
   "outputs": [],
   "source": [
    "#for item in list_of_items:\n",
    "    #do something to each item"
   ]
  },
  {
   "cell_type": "code",
   "execution_count": 2,
   "metadata": {},
   "outputs": [
    {
     "name": "stdout",
     "output_type": "stream",
     "text": [
      "Apple\n",
      "Peach\n",
      "Pear\n"
     ]
    }
   ],
   "source": [
    "fruits = ['Apple', 'Peach', 'Pear']\n",
    "for fruit in fruits:\n",
    "    print(fruit)"
   ]
  },
  {
   "cell_type": "code",
   "execution_count": 4,
   "metadata": {},
   "outputs": [
    {
     "name": "stdout",
     "output_type": "stream",
     "text": [
      "Apple pie\n",
      "Peach pie\n",
      "Pear pie\n"
     ]
    }
   ],
   "source": [
    "fruits = ['Apple', 'Peach', 'Pear']\n",
    "for fruit in fruits:\n",
    "    print(fruit + ' pie')"
   ]
  },
  {
   "cell_type": "code",
   "execution_count": 3,
   "metadata": {},
   "outputs": [
    {
     "name": "stdout",
     "output_type": "stream",
     "text": [
      "199\n"
     ]
    }
   ],
   "source": [
    "student_score = [150, 142, 185, 126, 171, 184, 149, 24, 59, 68, 199, 78,65,89 ]\n",
    "max_score = 0\n",
    "for score in student_score:\n",
    "    if score > max_score:\n",
    "        max_score = score\n",
    "print(max_score)"
   ]
  },
  {
   "cell_type": "code",
   "execution_count": 4,
   "metadata": {},
   "outputs": [
    {
     "name": "stdout",
     "output_type": "stream",
     "text": [
      "1, 2, 3, 4, 5, 6, 7, 8, 9, "
     ]
    }
   ],
   "source": [
    "#range\n",
    "for number in range(1, 10):\n",
    "    print(number, end = ', ')"
   ]
  },
  {
   "cell_type": "code",
   "execution_count": 6,
   "metadata": {},
   "outputs": [
    {
     "name": "stdout",
     "output_type": "stream",
     "text": [
      "1, 3, 5, 7, 9, "
     ]
    }
   ],
   "source": [
    "for number in range (1,11,2):\n",
    "    print(number, end=', ')"
   ]
  },
  {
   "cell_type": "code",
   "execution_count": 13,
   "metadata": {},
   "outputs": [
    {
     "name": "stdout",
     "output_type": "stream",
     "text": [
      "5050\n"
     ]
    }
   ],
   "source": [
    "total = 0\n",
    "for number in range(1, 101):\n",
    "    total += number\n",
    "print(total)"
   ]
  },
  {
   "cell_type": "code",
   "execution_count": 15,
   "metadata": {},
   "outputs": [],
   "source": [
    "for i in range(1,101):\n",
    "    if i % 3 == 0 and i % 5 == 0:\n",
    "        print(\"FizzBuzz\")\n",
    "    elif i % 3 == 0:\n",
    "        print(\"Fizz\")\n",
    "    elif i % 5 == 0:\n",
    "        print(\"Buzz\")\n",
    "    else:\n",
    "        print(i)"
   ]
  },
  {
   "cell_type": "code",
   "execution_count": null,
   "metadata": {},
   "outputs": [],
   "source": [
    "import random\n",
    "letters = ['a','b','c','d','e','f','g','h','i','j','k','l','m','n','o','p','q','r','s','t','u','v','w','x','y','z','A','B','C','D','E','F','G','H','I','J','K','L','M','N','O','P','Q','R','S','T','U','V','W','X','Y','Z']\n",
    "numbers = ['0','1','2','3','4','5','6','7','8','9']\n",
    "symbols = ['!','#','$','%','&','*','(',')','+']\n",
    "password = ' '\n",
    "\n",
    "print('Welcome to the PyPassword Generator!')\n",
    "nr_letters = int(input('How many letters would you like in your password?\\n'))\n",
    "nr_numbers = int(input('How many numbers would you like?\\n'))\n",
    "nr_symbols = int(input('How many symbols would you like?\\n'))\n",
    "\n",
    "for i in range(1, nr_letters+1):\n",
    "    password += random.choice(letters)\n",
    "    \n",
    "for i in range(1, nr_numbers+1):\n",
    "    password += random.choice(numbers)\n",
    "    \n",
    "for i in range(1,nr_symbols+1):\n",
    "    password += random.choice(symbols)\n",
    "    \n",
    "print(password)"
   ]
  },
  {
   "cell_type": "code",
   "execution_count": null,
   "metadata": {},
   "outputs": [
    {
     "name": "stdout",
     "output_type": "stream",
     "text": [
      "Welcome to the PyPassword Generator!\n",
      "Your passaword is: A1T33$3+2q\n"
     ]
    }
   ],
   "source": [
    "print('Welcome to the PyPassword Generator!')\n",
    "nr_letters = int(input('How many letters would you like in your password?\\n'))\n",
    "nr_numbers = int(input('How many numbers would you like?\\n'))\n",
    "nr_symbols = int(input('How many symbols would you like?\\n'))\n",
    "\n",
    "password_list = []\n",
    "for i in range(0,nr_letters):\n",
    "    password_list.append(random.choice(letters))\n",
    "    \n",
    "for i in range(0,nr_numbers):\n",
    "    password_list.append(random.choice(numbers))\n",
    "\n",
    "for i in range(0,nr_symbols):\n",
    "    password_list.append(random.choice(symbols))\n",
    "    \n",
    "random.shuffle(password_list)\n",
    "\n",
    "password = ''\n",
    "for char in password_list:\n",
    "    password += char\n",
    "    \n",
    "print(f'Your password is: {password}')"
   ]
  }
 ],
 "metadata": {
  "kernelspec": {
   "display_name": "base",
   "language": "python",
   "name": "python3"
  },
  "language_info": {
   "codemirror_mode": {
    "name": "ipython",
    "version": 3
   },
   "file_extension": ".py",
   "mimetype": "text/x-python",
   "name": "python",
   "nbconvert_exporter": "python",
   "pygments_lexer": "ipython3",
   "version": "3.11.7"
  }
 },
 "nbformat": 4,
 "nbformat_minor": 2
}
